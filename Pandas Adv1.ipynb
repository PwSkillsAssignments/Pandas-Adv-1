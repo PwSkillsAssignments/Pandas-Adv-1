{
 "cells": [
  {
   "cell_type": "code",
   "execution_count": 3,
   "id": "b80acaa0",
   "metadata": {},
   "outputs": [],
   "source": [
    "import pandas as pd\n",
    "import seaborn as sns"
   ]
  },
  {
   "cell_type": "code",
   "execution_count": 5,
   "id": "60810275",
   "metadata": {},
   "outputs": [],
   "source": [
    "df = sns.load_dataset('iris')"
   ]
  },
  {
   "cell_type": "markdown",
   "id": "6ed68e02",
   "metadata": {},
   "source": [
    "Q1. List any five functions of the pandas library with execution.\n"
   ]
  },
  {
   "cell_type": "code",
   "execution_count": 7,
   "id": "e979e23e",
   "metadata": {},
   "outputs": [
    {
     "name": "stdout",
     "output_type": "stream",
     "text": [
      "   sepal_length  sepal_width  petal_length  petal_width species\n",
      "0           5.1          3.5           1.4          0.2  setosa\n",
      "1           4.9          3.0           1.4          0.2  setosa\n",
      "2           4.7          3.2           1.3          0.2  setosa\n",
      "3           4.6          3.1           1.5          0.2  setosa\n",
      "4           5.0          3.6           1.4          0.2  setosa\n",
      "     sepal_length  sepal_width  petal_length  petal_width    species\n",
      "145           6.7          3.0           5.2          2.3  virginica\n",
      "146           6.3          2.5           5.0          1.9  virginica\n",
      "147           6.5          3.0           5.2          2.0  virginica\n",
      "148           6.2          3.4           5.4          2.3  virginica\n",
      "149           5.9          3.0           5.1          1.8  virginica\n"
     ]
    }
   ],
   "source": [
    "# 1. head() and tail(): Display the first or last rows of the dataFrame.\n",
    "print(df.head())\n",
    "print(df.tail())"
   ]
  },
  {
   "cell_type": "code",
   "execution_count": 8,
   "id": "a1e8b016",
   "metadata": {},
   "outputs": [
    {
     "data": {
      "text/html": [
       "<div>\n",
       "<style scoped>\n",
       "    .dataframe tbody tr th:only-of-type {\n",
       "        vertical-align: middle;\n",
       "    }\n",
       "\n",
       "    .dataframe tbody tr th {\n",
       "        vertical-align: top;\n",
       "    }\n",
       "\n",
       "    .dataframe thead th {\n",
       "        text-align: right;\n",
       "    }\n",
       "</style>\n",
       "<table border=\"1\" class=\"dataframe\">\n",
       "  <thead>\n",
       "    <tr style=\"text-align: right;\">\n",
       "      <th></th>\n",
       "      <th>sepal_length</th>\n",
       "      <th>sepal_width</th>\n",
       "      <th>petal_length</th>\n",
       "      <th>petal_width</th>\n",
       "    </tr>\n",
       "  </thead>\n",
       "  <tbody>\n",
       "    <tr>\n",
       "      <th>count</th>\n",
       "      <td>150.000000</td>\n",
       "      <td>150.000000</td>\n",
       "      <td>150.000000</td>\n",
       "      <td>150.000000</td>\n",
       "    </tr>\n",
       "    <tr>\n",
       "      <th>mean</th>\n",
       "      <td>5.843333</td>\n",
       "      <td>3.057333</td>\n",
       "      <td>3.758000</td>\n",
       "      <td>1.199333</td>\n",
       "    </tr>\n",
       "    <tr>\n",
       "      <th>std</th>\n",
       "      <td>0.828066</td>\n",
       "      <td>0.435866</td>\n",
       "      <td>1.765298</td>\n",
       "      <td>0.762238</td>\n",
       "    </tr>\n",
       "    <tr>\n",
       "      <th>min</th>\n",
       "      <td>4.300000</td>\n",
       "      <td>2.000000</td>\n",
       "      <td>1.000000</td>\n",
       "      <td>0.100000</td>\n",
       "    </tr>\n",
       "    <tr>\n",
       "      <th>25%</th>\n",
       "      <td>5.100000</td>\n",
       "      <td>2.800000</td>\n",
       "      <td>1.600000</td>\n",
       "      <td>0.300000</td>\n",
       "    </tr>\n",
       "    <tr>\n",
       "      <th>50%</th>\n",
       "      <td>5.800000</td>\n",
       "      <td>3.000000</td>\n",
       "      <td>4.350000</td>\n",
       "      <td>1.300000</td>\n",
       "    </tr>\n",
       "    <tr>\n",
       "      <th>75%</th>\n",
       "      <td>6.400000</td>\n",
       "      <td>3.300000</td>\n",
       "      <td>5.100000</td>\n",
       "      <td>1.800000</td>\n",
       "    </tr>\n",
       "    <tr>\n",
       "      <th>max</th>\n",
       "      <td>7.900000</td>\n",
       "      <td>4.400000</td>\n",
       "      <td>6.900000</td>\n",
       "      <td>2.500000</td>\n",
       "    </tr>\n",
       "  </tbody>\n",
       "</table>\n",
       "</div>"
      ],
      "text/plain": [
       "       sepal_length  sepal_width  petal_length  petal_width\n",
       "count    150.000000   150.000000    150.000000   150.000000\n",
       "mean       5.843333     3.057333      3.758000     1.199333\n",
       "std        0.828066     0.435866      1.765298     0.762238\n",
       "min        4.300000     2.000000      1.000000     0.100000\n",
       "25%        5.100000     2.800000      1.600000     0.300000\n",
       "50%        5.800000     3.000000      4.350000     1.300000\n",
       "75%        6.400000     3.300000      5.100000     1.800000\n",
       "max        7.900000     4.400000      6.900000     2.500000"
      ]
     },
     "execution_count": 8,
     "metadata": {},
     "output_type": "execute_result"
    }
   ],
   "source": [
    "# 2. describe(): Display the stats of the dataframe.\n",
    "df.describe()"
   ]
  },
  {
   "cell_type": "code",
   "execution_count": 9,
   "id": "8a55e25b",
   "metadata": {},
   "outputs": [
    {
     "data": {
      "text/plain": [
       "(150, 5)"
      ]
     },
     "execution_count": 9,
     "metadata": {},
     "output_type": "execute_result"
    }
   ],
   "source": [
    "# 3. shape: return the number of rows and column.\n",
    "df.shape"
   ]
  },
  {
   "cell_type": "code",
   "execution_count": 11,
   "id": "7608df57",
   "metadata": {},
   "outputs": [
    {
     "data": {
      "text/plain": [
       "sepal_length    0\n",
       "sepal_width     0\n",
       "petal_length    0\n",
       "petal_width     0\n",
       "species         0\n",
       "dtype: int64"
      ]
     },
     "execution_count": 11,
     "metadata": {},
     "output_type": "execute_result"
    }
   ],
   "source": [
    "# 4. isna(): get the NaNs.\n",
    "df.isna().sum()"
   ]
  },
  {
   "cell_type": "code",
   "execution_count": 13,
   "id": "7fc9fab0",
   "metadata": {},
   "outputs": [
    {
     "data": {
      "text/html": [
       "<div>\n",
       "<style scoped>\n",
       "    .dataframe tbody tr th:only-of-type {\n",
       "        vertical-align: middle;\n",
       "    }\n",
       "\n",
       "    .dataframe tbody tr th {\n",
       "        vertical-align: top;\n",
       "    }\n",
       "\n",
       "    .dataframe thead th {\n",
       "        text-align: right;\n",
       "    }\n",
       "</style>\n",
       "<table border=\"1\" class=\"dataframe\">\n",
       "  <thead>\n",
       "    <tr style=\"text-align: right;\">\n",
       "      <th></th>\n",
       "      <th>sepal_length</th>\n",
       "      <th>sepal_width</th>\n",
       "      <th>petal_length</th>\n",
       "      <th>petal_width</th>\n",
       "    </tr>\n",
       "    <tr>\n",
       "      <th>species</th>\n",
       "      <th></th>\n",
       "      <th></th>\n",
       "      <th></th>\n",
       "      <th></th>\n",
       "    </tr>\n",
       "  </thead>\n",
       "  <tbody>\n",
       "    <tr>\n",
       "      <th>setosa</th>\n",
       "      <td>50</td>\n",
       "      <td>50</td>\n",
       "      <td>50</td>\n",
       "      <td>50</td>\n",
       "    </tr>\n",
       "    <tr>\n",
       "      <th>versicolor</th>\n",
       "      <td>50</td>\n",
       "      <td>50</td>\n",
       "      <td>50</td>\n",
       "      <td>50</td>\n",
       "    </tr>\n",
       "    <tr>\n",
       "      <th>virginica</th>\n",
       "      <td>50</td>\n",
       "      <td>50</td>\n",
       "      <td>50</td>\n",
       "      <td>50</td>\n",
       "    </tr>\n",
       "  </tbody>\n",
       "</table>\n",
       "</div>"
      ],
      "text/plain": [
       "            sepal_length  sepal_width  petal_length  petal_width\n",
       "species                                                         \n",
       "setosa                50           50            50           50\n",
       "versicolor            50           50            50           50\n",
       "virginica             50           50            50           50"
      ]
     },
     "execution_count": 13,
     "metadata": {},
     "output_type": "execute_result"
    }
   ],
   "source": [
    "# 5. groupby(): Perform the grouping operation\n",
    "df.groupby('species').count()"
   ]
  },
  {
   "cell_type": "markdown",
   "id": "2deac61c",
   "metadata": {},
   "source": [
    "Q2. Given a Pandas DataFrame df with columns 'A', 'B', and 'C', write a Python function to re-index the \n",
    "DataFrame with a new index that starts from 1 and increments by 2 for each row."
   ]
  },
  {
   "cell_type": "code",
   "execution_count": 15,
   "id": "e557f880",
   "metadata": {},
   "outputs": [
    {
     "data": {
      "text/html": [
       "<div>\n",
       "<style scoped>\n",
       "    .dataframe tbody tr th:only-of-type {\n",
       "        vertical-align: middle;\n",
       "    }\n",
       "\n",
       "    .dataframe tbody tr th {\n",
       "        vertical-align: top;\n",
       "    }\n",
       "\n",
       "    .dataframe thead th {\n",
       "        text-align: right;\n",
       "    }\n",
       "</style>\n",
       "<table border=\"1\" class=\"dataframe\">\n",
       "  <thead>\n",
       "    <tr style=\"text-align: right;\">\n",
       "      <th></th>\n",
       "      <th>A</th>\n",
       "      <th>B</th>\n",
       "      <th>C</th>\n",
       "    </tr>\n",
       "  </thead>\n",
       "  <tbody>\n",
       "    <tr>\n",
       "      <th>0</th>\n",
       "      <td>1</td>\n",
       "      <td>6</td>\n",
       "      <td>11</td>\n",
       "    </tr>\n",
       "    <tr>\n",
       "      <th>1</th>\n",
       "      <td>2</td>\n",
       "      <td>7</td>\n",
       "      <td>12</td>\n",
       "    </tr>\n",
       "    <tr>\n",
       "      <th>2</th>\n",
       "      <td>3</td>\n",
       "      <td>8</td>\n",
       "      <td>13</td>\n",
       "    </tr>\n",
       "    <tr>\n",
       "      <th>3</th>\n",
       "      <td>4</td>\n",
       "      <td>9</td>\n",
       "      <td>14</td>\n",
       "    </tr>\n",
       "    <tr>\n",
       "      <th>4</th>\n",
       "      <td>5</td>\n",
       "      <td>10</td>\n",
       "      <td>15</td>\n",
       "    </tr>\n",
       "  </tbody>\n",
       "</table>\n",
       "</div>"
      ],
      "text/plain": [
       "   A   B   C\n",
       "0  1   6  11\n",
       "1  2   7  12\n",
       "2  3   8  13\n",
       "3  4   9  14\n",
       "4  5  10  15"
      ]
     },
     "execution_count": 15,
     "metadata": {},
     "output_type": "execute_result"
    }
   ],
   "source": [
    "sample = pd.DataFrame({\n",
    "    'A': [1,2,3,4,5],\n",
    "    'B': [6,7,8,9,10],\n",
    "    'C':[11,12,13,14,15]\n",
    "})\n",
    "sample\n"
   ]
  },
  {
   "cell_type": "code",
   "execution_count": 22,
   "id": "08707187",
   "metadata": {},
   "outputs": [
    {
     "data": {
      "text/plain": [
       "[1, 3, 5, 7, 9]"
      ]
     },
     "execution_count": 22,
     "metadata": {},
     "output_type": "execute_result"
    }
   ],
   "source": [
    "index_range = list(range(10))[1::2]\n",
    "index_range"
   ]
  },
  {
   "cell_type": "code",
   "execution_count": 24,
   "id": "8ea00c21",
   "metadata": {},
   "outputs": [
    {
     "data": {
      "text/html": [
       "<div>\n",
       "<style scoped>\n",
       "    .dataframe tbody tr th:only-of-type {\n",
       "        vertical-align: middle;\n",
       "    }\n",
       "\n",
       "    .dataframe tbody tr th {\n",
       "        vertical-align: top;\n",
       "    }\n",
       "\n",
       "    .dataframe thead th {\n",
       "        text-align: right;\n",
       "    }\n",
       "</style>\n",
       "<table border=\"1\" class=\"dataframe\">\n",
       "  <thead>\n",
       "    <tr style=\"text-align: right;\">\n",
       "      <th></th>\n",
       "      <th>A</th>\n",
       "      <th>B</th>\n",
       "      <th>C</th>\n",
       "    </tr>\n",
       "  </thead>\n",
       "  <tbody>\n",
       "    <tr>\n",
       "      <th>1</th>\n",
       "      <td>2.0</td>\n",
       "      <td>7.0</td>\n",
       "      <td>12.0</td>\n",
       "    </tr>\n",
       "    <tr>\n",
       "      <th>3</th>\n",
       "      <td>4.0</td>\n",
       "      <td>9.0</td>\n",
       "      <td>14.0</td>\n",
       "    </tr>\n",
       "    <tr>\n",
       "      <th>5</th>\n",
       "      <td>NaN</td>\n",
       "      <td>NaN</td>\n",
       "      <td>NaN</td>\n",
       "    </tr>\n",
       "    <tr>\n",
       "      <th>7</th>\n",
       "      <td>NaN</td>\n",
       "      <td>NaN</td>\n",
       "      <td>NaN</td>\n",
       "    </tr>\n",
       "    <tr>\n",
       "      <th>9</th>\n",
       "      <td>NaN</td>\n",
       "      <td>NaN</td>\n",
       "      <td>NaN</td>\n",
       "    </tr>\n",
       "  </tbody>\n",
       "</table>\n",
       "</div>"
      ],
      "text/plain": [
       "     A    B     C\n",
       "1  2.0  7.0  12.0\n",
       "3  4.0  9.0  14.0\n",
       "5  NaN  NaN   NaN\n",
       "7  NaN  NaN   NaN\n",
       "9  NaN  NaN   NaN"
      ]
     },
     "execution_count": 24,
     "metadata": {},
     "output_type": "execute_result"
    }
   ],
   "source": [
    "sample = sample.reindex(index_range)\n",
    "sample"
   ]
  },
  {
   "cell_type": "markdown",
   "id": "2edc38b7",
   "metadata": {},
   "source": [
    "Q3. You have a Pandas DataFrame df with a column named 'Values'. Write a Python function that \n",
    "iterates over the DataFrame and calculates the sum of the first three values in the 'Values' column. The \n",
    "function should print the sum to the console"
   ]
  },
  {
   "cell_type": "code",
   "execution_count": 37,
   "id": "0f90b038",
   "metadata": {},
   "outputs": [
    {
     "data": {
      "text/html": [
       "<div>\n",
       "<style scoped>\n",
       "    .dataframe tbody tr th:only-of-type {\n",
       "        vertical-align: middle;\n",
       "    }\n",
       "\n",
       "    .dataframe tbody tr th {\n",
       "        vertical-align: top;\n",
       "    }\n",
       "\n",
       "    .dataframe thead th {\n",
       "        text-align: right;\n",
       "    }\n",
       "</style>\n",
       "<table border=\"1\" class=\"dataframe\">\n",
       "  <thead>\n",
       "    <tr style=\"text-align: right;\">\n",
       "      <th></th>\n",
       "      <th>Values</th>\n",
       "    </tr>\n",
       "  </thead>\n",
       "  <tbody>\n",
       "    <tr>\n",
       "      <th>0</th>\n",
       "      <td>11</td>\n",
       "    </tr>\n",
       "    <tr>\n",
       "      <th>1</th>\n",
       "      <td>21</td>\n",
       "    </tr>\n",
       "    <tr>\n",
       "      <th>2</th>\n",
       "      <td>31</td>\n",
       "    </tr>\n",
       "    <tr>\n",
       "      <th>3</th>\n",
       "      <td>41</td>\n",
       "    </tr>\n",
       "    <tr>\n",
       "      <th>4</th>\n",
       "      <td>51</td>\n",
       "    </tr>\n",
       "  </tbody>\n",
       "</table>\n",
       "</div>"
      ],
      "text/plain": [
       "   Values\n",
       "0      11\n",
       "1      21\n",
       "2      31\n",
       "3      41\n",
       "4      51"
      ]
     },
     "execution_count": 37,
     "metadata": {},
     "output_type": "execute_result"
    }
   ],
   "source": [
    "sample = pd.DataFrame({\n",
    "    'Values': [11,21,31,41,51],\n",
    "})\n",
    "sample\n"
   ]
  },
  {
   "cell_type": "code",
   "execution_count": 39,
   "id": "552f1f3d",
   "metadata": {},
   "outputs": [],
   "source": [
    "def df_sum(x):\n",
    "    \"\"\"\n",
    "    Get the sum of first 3 values in the given columns.\n",
    "    \n",
    "    Parameters:\n",
    "    x: elements present in the dataframe\n",
    "    \n",
    "    returns:\n",
    "    Calculates the sum of first 3 index values.\n",
    "    \"\"\"\n",
    "    sum_values=[]\n",
    "    initial_val =0\n",
    "    for i in range(len(sample)):\n",
    "#         Check the index\n",
    "        if i<=2:\n",
    "            values = initial_val + sample['Values'][i]\n",
    "            sum_values.append(values)\n",
    "    return sum(sum_values)\n",
    "    "
   ]
  },
  {
   "cell_type": "code",
   "execution_count": 40,
   "id": "2a272bd1",
   "metadata": {},
   "outputs": [
    {
     "data": {
      "text/plain": [
       "63"
      ]
     },
     "execution_count": 40,
     "metadata": {},
     "output_type": "execute_result"
    }
   ],
   "source": [
    "df_sum(sample['Values'])"
   ]
  },
  {
   "cell_type": "markdown",
   "id": "d9f64a0d",
   "metadata": {},
   "source": [
    "Q4. Given a Pandas DataFrame df with a column 'Text', write a Python function to create a new column \n",
    "'Word_Count' that contains the number of words in each row of the 'Text' column."
   ]
  },
  {
   "cell_type": "code",
   "execution_count": 63,
   "id": "9f82c698",
   "metadata": {},
   "outputs": [
    {
     "name": "stdout",
     "output_type": "stream",
     "text": [
      "                                                Text  Word_Count\n",
      "0  Pandas is a powerful library for data manipula...           8\n",
      "1  It provides data structures like Series and Da...           8\n",
      "2  Data analysis and manipulation are made easy w...           9\n",
      "3  Python is the programming language used for pa...           8\n",
      "4  You can perform various operations on data usi...           9\n"
     ]
    }
   ],
   "source": [
    "sentences = [\n",
    "    \"Pandas is a powerful library for data manipulation.\",\n",
    "    \"It provides data structures like Series and DataFrame.\",\n",
    "    \"Data analysis and manipulation are made easy with pandas.\",\n",
    "    \"Python is the programming language used for pandas.\",\n",
    "    \"You can perform various operations on data using pandas.\"\n",
    "]\n",
    "\n",
    "# Creating a DataFrame with one column 'Sentences'\n",
    "df = pd.DataFrame({'Text': sentences})\n",
    "\n",
    "# Calculate the Word Count.\n",
    "df['Word_Count'] = df['Text'].apply(lambda x:len(x.split()))\n",
    "\n",
    "# Display the dataframe\n",
    "print(df)"
   ]
  },
  {
   "cell_type": "markdown",
   "id": "7940200a",
   "metadata": {},
   "source": [
    "Q5. How are DataFrame.size() and DataFrame.shape() different"
   ]
  },
  {
   "cell_type": "code",
   "execution_count": 64,
   "id": "bd7635b9",
   "metadata": {},
   "outputs": [],
   "source": [
    "df = sns.load_dataset('iris')"
   ]
  },
  {
   "cell_type": "code",
   "execution_count": 73,
   "id": "b55f08b5",
   "metadata": {},
   "outputs": [
    {
     "data": {
      "text/plain": [
       "750"
      ]
     },
     "execution_count": 73,
     "metadata": {},
     "output_type": "execute_result"
    }
   ],
   "source": [
    "# Size returns the cross product of Number of Rows and columns\n",
    "df.size"
   ]
  },
  {
   "cell_type": "code",
   "execution_count": 74,
   "id": "527100d7",
   "metadata": {},
   "outputs": [
    {
     "data": {
      "text/plain": [
       "(150, 5)"
      ]
     },
     "execution_count": 74,
     "metadata": {},
     "output_type": "execute_result"
    }
   ],
   "source": [
    "# Shape returns the Number of Rows and Columns in the dataframe\n",
    "df.shape"
   ]
  },
  {
   "cell_type": "markdown",
   "id": "b7f79e75",
   "metadata": {},
   "source": [
    "Q6.c Which function of pandas do we use to read an excel file?"
   ]
  },
  {
   "cell_type": "markdown",
   "id": "60f2c661",
   "metadata": {},
   "source": [
    "Ans: read_excel(file_path)"
   ]
  },
  {
   "cell_type": "markdown",
   "id": "faf7cd7b",
   "metadata": {},
   "source": [
    "Q7. You have a Pandas DataFrame df that contains a column named 'Email' that contains email \n",
    "addresses in the format 'username@domain.com'. Write a Python function that creates a new column \n",
    "'Username' in df that contains only the username part of each email address."
   ]
  },
  {
   "cell_type": "code",
   "execution_count": 105,
   "id": "a6c28a57",
   "metadata": {},
   "outputs": [
    {
     "name": "stdout",
     "output_type": "stream",
     "text": [
      "                   Email\n",
      "0    johndoe@example.com\n",
      "1  janesmith@example.com\n",
      "2   bobjones@example.com\n"
     ]
    }
   ],
   "source": [
    "import pandas as pd\n",
    "\n",
    "# Sample data with email addresses\n",
    "data = {'Email': ['johndoe@example.com', 'janesmith@example.com', 'bobjones@example.com']}\n",
    "\n",
    "# Creating a DataFrame\n",
    "df = pd.DataFrame(data)\n",
    "\n",
    "# Display the DataFrame\n",
    "print(df)\n"
   ]
  },
  {
   "cell_type": "code",
   "execution_count": 106,
   "id": "0628d1dd",
   "metadata": {},
   "outputs": [],
   "source": [
    "def get_username(df):\n",
    "    \"\"\"\n",
    "    Extracts the username from the 'Email' column and creates a new column 'Username' in the DataFrame.\n",
    "    \n",
    "    Parameters:\n",
    "    df : the input dataframe to extract the username from email\n",
    "    \n",
    "    returns:\n",
    "    df: dataframe with username column.\n",
    "    \"\"\"\n",
    "    df = df.copy()\n",
    "    df['Username'] = df['Email'].apply(lambda x: x.split('@')[0])\n",
    "    \n",
    "    return df\n",
    "    "
   ]
  },
  {
   "cell_type": "code",
   "execution_count": 107,
   "id": "0642146c",
   "metadata": {},
   "outputs": [
    {
     "data": {
      "text/html": [
       "<div>\n",
       "<style scoped>\n",
       "    .dataframe tbody tr th:only-of-type {\n",
       "        vertical-align: middle;\n",
       "    }\n",
       "\n",
       "    .dataframe tbody tr th {\n",
       "        vertical-align: top;\n",
       "    }\n",
       "\n",
       "    .dataframe thead th {\n",
       "        text-align: right;\n",
       "    }\n",
       "</style>\n",
       "<table border=\"1\" class=\"dataframe\">\n",
       "  <thead>\n",
       "    <tr style=\"text-align: right;\">\n",
       "      <th></th>\n",
       "      <th>Email</th>\n",
       "      <th>Username</th>\n",
       "    </tr>\n",
       "  </thead>\n",
       "  <tbody>\n",
       "    <tr>\n",
       "      <th>0</th>\n",
       "      <td>johndoe@example.com</td>\n",
       "      <td>johndoe</td>\n",
       "    </tr>\n",
       "    <tr>\n",
       "      <th>1</th>\n",
       "      <td>janesmith@example.com</td>\n",
       "      <td>janesmith</td>\n",
       "    </tr>\n",
       "    <tr>\n",
       "      <th>2</th>\n",
       "      <td>bobjones@example.com</td>\n",
       "      <td>bobjones</td>\n",
       "    </tr>\n",
       "  </tbody>\n",
       "</table>\n",
       "</div>"
      ],
      "text/plain": [
       "                   Email   Username\n",
       "0    johndoe@example.com    johndoe\n",
       "1  janesmith@example.com  janesmith\n",
       "2   bobjones@example.com   bobjones"
      ]
     },
     "execution_count": 107,
     "metadata": {},
     "output_type": "execute_result"
    }
   ],
   "source": [
    "df = get_username(df)\n",
    "df"
   ]
  },
  {
   "cell_type": "markdown",
   "id": "8e83a1cb",
   "metadata": {},
   "source": [
    "Q8. You have a Pandas DataFrame df with columns 'A', 'B', and 'C'. Write a Python function that selects \n",
    "all rows where the value in column 'A' is greater than 5 and the value in column 'B' is less than 10. The \n",
    "function should return a new DataFrame that contains only the selected rows"
   ]
  },
  {
   "cell_type": "code",
   "execution_count": 109,
   "id": "f5be577e",
   "metadata": {},
   "outputs": [
    {
     "data": {
      "text/html": [
       "<div>\n",
       "<style scoped>\n",
       "    .dataframe tbody tr th:only-of-type {\n",
       "        vertical-align: middle;\n",
       "    }\n",
       "\n",
       "    .dataframe tbody tr th {\n",
       "        vertical-align: top;\n",
       "    }\n",
       "\n",
       "    .dataframe thead th {\n",
       "        text-align: right;\n",
       "    }\n",
       "</style>\n",
       "<table border=\"1\" class=\"dataframe\">\n",
       "  <thead>\n",
       "    <tr style=\"text-align: right;\">\n",
       "      <th></th>\n",
       "      <th>A</th>\n",
       "      <th>B</th>\n",
       "      <th>C</th>\n",
       "    </tr>\n",
       "  </thead>\n",
       "  <tbody>\n",
       "    <tr>\n",
       "      <th>0</th>\n",
       "      <td>1</td>\n",
       "      <td>6</td>\n",
       "      <td>11</td>\n",
       "    </tr>\n",
       "    <tr>\n",
       "      <th>1</th>\n",
       "      <td>22</td>\n",
       "      <td>7</td>\n",
       "      <td>12</td>\n",
       "    </tr>\n",
       "    <tr>\n",
       "      <th>2</th>\n",
       "      <td>31</td>\n",
       "      <td>8</td>\n",
       "      <td>13</td>\n",
       "    </tr>\n",
       "    <tr>\n",
       "      <th>3</th>\n",
       "      <td>4</td>\n",
       "      <td>9</td>\n",
       "      <td>14</td>\n",
       "    </tr>\n",
       "    <tr>\n",
       "      <th>4</th>\n",
       "      <td>5</td>\n",
       "      <td>10</td>\n",
       "      <td>15</td>\n",
       "    </tr>\n",
       "  </tbody>\n",
       "</table>\n",
       "</div>"
      ],
      "text/plain": [
       "    A   B   C\n",
       "0   1   6  11\n",
       "1  22   7  12\n",
       "2  31   8  13\n",
       "3   4   9  14\n",
       "4   5  10  15"
      ]
     },
     "execution_count": 109,
     "metadata": {},
     "output_type": "execute_result"
    }
   ],
   "source": [
    "sample = pd.DataFrame({\n",
    "    'A': [1,22,31,4,5],\n",
    "    'B': [6,7,8,9,10],\n",
    "    'C':[11,12,13,14,15]\n",
    "})\n",
    "sample\n"
   ]
  },
  {
   "cell_type": "code",
   "execution_count": 113,
   "id": "f93f7a55",
   "metadata": {},
   "outputs": [],
   "source": [
    "def filter_dataframe(df):\n",
    "    \"\"\"\n",
    "    Get the rows from the DataFrame where 'A' > 5 and 'B' < 10.\n",
    "\n",
    "    Parameters:\n",
    "    df: The input DataFrame with columns 'A', 'B', and 'C'.\n",
    "\n",
    "    Returns:\n",
    "    df: A new DataFrame containing only the selected rows.\n",
    "    \"\"\"\n",
    "    # Using indexing to filter rows\n",
    "    filtered_rows = df[(df['A'] > 5) & (df['B'] < 10)]\n",
    "\n",
    "    return filtered_rows"
   ]
  },
  {
   "cell_type": "code",
   "execution_count": 114,
   "id": "ca0458b1",
   "metadata": {},
   "outputs": [
    {
     "data": {
      "text/html": [
       "<div>\n",
       "<style scoped>\n",
       "    .dataframe tbody tr th:only-of-type {\n",
       "        vertical-align: middle;\n",
       "    }\n",
       "\n",
       "    .dataframe tbody tr th {\n",
       "        vertical-align: top;\n",
       "    }\n",
       "\n",
       "    .dataframe thead th {\n",
       "        text-align: right;\n",
       "    }\n",
       "</style>\n",
       "<table border=\"1\" class=\"dataframe\">\n",
       "  <thead>\n",
       "    <tr style=\"text-align: right;\">\n",
       "      <th></th>\n",
       "      <th>A</th>\n",
       "      <th>B</th>\n",
       "      <th>C</th>\n",
       "    </tr>\n",
       "  </thead>\n",
       "  <tbody>\n",
       "    <tr>\n",
       "      <th>1</th>\n",
       "      <td>22</td>\n",
       "      <td>7</td>\n",
       "      <td>12</td>\n",
       "    </tr>\n",
       "    <tr>\n",
       "      <th>2</th>\n",
       "      <td>31</td>\n",
       "      <td>8</td>\n",
       "      <td>13</td>\n",
       "    </tr>\n",
       "  </tbody>\n",
       "</table>\n",
       "</div>"
      ],
      "text/plain": [
       "    A  B   C\n",
       "1  22  7  12\n",
       "2  31  8  13"
      ]
     },
     "execution_count": 114,
     "metadata": {},
     "output_type": "execute_result"
    }
   ],
   "source": [
    "sample_df = filter_dataframe(sample)\n",
    "sample_df"
   ]
  },
  {
   "cell_type": "markdown",
   "id": "71e50b66",
   "metadata": {},
   "source": [
    "Q9. Given a Pandas DataFrame df with a column 'Values', write a Python function to calculate the mean, \n",
    "median, and standard deviation of the values in the 'Values' column."
   ]
  },
  {
   "cell_type": "code",
   "execution_count": 116,
   "id": "239751ab",
   "metadata": {},
   "outputs": [
    {
     "data": {
      "text/html": [
       "<div>\n",
       "<style scoped>\n",
       "    .dataframe tbody tr th:only-of-type {\n",
       "        vertical-align: middle;\n",
       "    }\n",
       "\n",
       "    .dataframe tbody tr th {\n",
       "        vertical-align: top;\n",
       "    }\n",
       "\n",
       "    .dataframe thead th {\n",
       "        text-align: right;\n",
       "    }\n",
       "</style>\n",
       "<table border=\"1\" class=\"dataframe\">\n",
       "  <thead>\n",
       "    <tr style=\"text-align: right;\">\n",
       "      <th></th>\n",
       "      <th>Values</th>\n",
       "    </tr>\n",
       "  </thead>\n",
       "  <tbody>\n",
       "    <tr>\n",
       "      <th>0</th>\n",
       "      <td>11</td>\n",
       "    </tr>\n",
       "    <tr>\n",
       "      <th>1</th>\n",
       "      <td>21</td>\n",
       "    </tr>\n",
       "    <tr>\n",
       "      <th>2</th>\n",
       "      <td>31</td>\n",
       "    </tr>\n",
       "    <tr>\n",
       "      <th>3</th>\n",
       "      <td>41</td>\n",
       "    </tr>\n",
       "    <tr>\n",
       "      <th>4</th>\n",
       "      <td>51</td>\n",
       "    </tr>\n",
       "  </tbody>\n",
       "</table>\n",
       "</div>"
      ],
      "text/plain": [
       "   Values\n",
       "0      11\n",
       "1      21\n",
       "2      31\n",
       "3      41\n",
       "4      51"
      ]
     },
     "execution_count": 116,
     "metadata": {},
     "output_type": "execute_result"
    }
   ],
   "source": [
    "sample = pd.DataFrame({\n",
    "    'Values': [11,21,31,41,51],\n",
    "})\n",
    "sample\n"
   ]
  },
  {
   "cell_type": "code",
   "execution_count": 124,
   "id": "bfa6a84e",
   "metadata": {},
   "outputs": [],
   "source": [
    "def get_stats(df, column_name):\n",
    "    \"\"\"\n",
    "    Get the Mean, Median and Standard Deviation from the DataFrame.\n",
    "\n",
    "    Parameters:\n",
    "    df: The input DataFrame.\n",
    "    column_name: contains the column name\n",
    "\n",
    "    Returns:\n",
    "    returns the mean, median and std\n",
    "    \"\"\"\n",
    "    \n",
    "    stats_df = df.copy()\n",
    "    df_mean = stats_df[column_name].mean()\n",
    "    df_median = stats_df[column_name].median()\n",
    "    df_std = stats_df[column_name].std()\n",
    "    \n",
    "    return df_mean, df_median, df_std"
   ]
  },
  {
   "cell_type": "code",
   "execution_count": 127,
   "id": "e0bebd44",
   "metadata": {},
   "outputs": [
    {
     "name": "stdout",
     "output_type": "stream",
     "text": [
      "Mean is:  31.0\n",
      "Median is: 31.0\n",
      "Standard Deviation is:  15.811388300841896\n"
     ]
    }
   ],
   "source": [
    "mean, median, std = get_stats(sample, 'Values')\n",
    "print('Mean is: ', mean)\n",
    "print('Median is:', median)\n",
    "print('Standard Deviation is: ',std)"
   ]
  },
  {
   "cell_type": "markdown",
   "id": "4aae4623",
   "metadata": {},
   "source": [
    "Q10. Given a Pandas DataFrame df with a column 'Sales' and a column 'Date', write a Python function to \n",
    "create a new column 'MovingAverage' that contains the moving average of the sales for the past 7 days \n",
    "for each row in the DataFrame. The moving average should be calculated using a window of size 7 and \n",
    "should include the current day."
   ]
  },
  {
   "cell_type": "code",
   "execution_count": 169,
   "id": "e7e153b6",
   "metadata": {},
   "outputs": [
    {
     "data": {
      "text/html": [
       "<div>\n",
       "<style scoped>\n",
       "    .dataframe tbody tr th:only-of-type {\n",
       "        vertical-align: middle;\n",
       "    }\n",
       "\n",
       "    .dataframe tbody tr th {\n",
       "        vertical-align: top;\n",
       "    }\n",
       "\n",
       "    .dataframe thead th {\n",
       "        text-align: right;\n",
       "    }\n",
       "</style>\n",
       "<table border=\"1\" class=\"dataframe\">\n",
       "  <thead>\n",
       "    <tr style=\"text-align: right;\">\n",
       "      <th></th>\n",
       "      <th>Date</th>\n",
       "      <th>Sales</th>\n",
       "    </tr>\n",
       "  </thead>\n",
       "  <tbody>\n",
       "    <tr>\n",
       "      <th>0</th>\n",
       "      <td>2024-01-02 12:48:59.718351</td>\n",
       "      <td>202</td>\n",
       "    </tr>\n",
       "    <tr>\n",
       "      <th>1</th>\n",
       "      <td>2024-01-01 12:48:59.718351</td>\n",
       "      <td>535</td>\n",
       "    </tr>\n",
       "    <tr>\n",
       "      <th>2</th>\n",
       "      <td>2023-12-31 12:48:59.718351</td>\n",
       "      <td>960</td>\n",
       "    </tr>\n",
       "    <tr>\n",
       "      <th>3</th>\n",
       "      <td>2023-12-30 12:48:59.718351</td>\n",
       "      <td>370</td>\n",
       "    </tr>\n",
       "    <tr>\n",
       "      <th>4</th>\n",
       "      <td>2023-12-29 12:48:59.718351</td>\n",
       "      <td>206</td>\n",
       "    </tr>\n",
       "    <tr>\n",
       "      <th>5</th>\n",
       "      <td>2023-12-28 12:48:59.718351</td>\n",
       "      <td>171</td>\n",
       "    </tr>\n",
       "    <tr>\n",
       "      <th>6</th>\n",
       "      <td>2023-12-27 12:48:59.718351</td>\n",
       "      <td>800</td>\n",
       "    </tr>\n",
       "    <tr>\n",
       "      <th>7</th>\n",
       "      <td>2023-12-26 12:48:59.718351</td>\n",
       "      <td>120</td>\n",
       "    </tr>\n",
       "    <tr>\n",
       "      <th>8</th>\n",
       "      <td>2023-12-25 12:48:59.718351</td>\n",
       "      <td>714</td>\n",
       "    </tr>\n",
       "    <tr>\n",
       "      <th>9</th>\n",
       "      <td>2023-12-24 12:48:59.718351</td>\n",
       "      <td>221</td>\n",
       "    </tr>\n",
       "    <tr>\n",
       "      <th>10</th>\n",
       "      <td>2023-12-23 12:48:59.718351</td>\n",
       "      <td>566</td>\n",
       "    </tr>\n",
       "    <tr>\n",
       "      <th>11</th>\n",
       "      <td>2023-12-22 12:48:59.718351</td>\n",
       "      <td>314</td>\n",
       "    </tr>\n",
       "    <tr>\n",
       "      <th>12</th>\n",
       "      <td>2023-12-21 12:48:59.718351</td>\n",
       "      <td>430</td>\n",
       "    </tr>\n",
       "    <tr>\n",
       "      <th>13</th>\n",
       "      <td>2023-12-20 12:48:59.718351</td>\n",
       "      <td>558</td>\n",
       "    </tr>\n",
       "    <tr>\n",
       "      <th>14</th>\n",
       "      <td>2023-12-19 12:48:59.718351</td>\n",
       "      <td>187</td>\n",
       "    </tr>\n",
       "    <tr>\n",
       "      <th>15</th>\n",
       "      <td>2023-12-18 12:48:59.718351</td>\n",
       "      <td>472</td>\n",
       "    </tr>\n",
       "    <tr>\n",
       "      <th>16</th>\n",
       "      <td>2023-12-17 12:48:59.718351</td>\n",
       "      <td>199</td>\n",
       "    </tr>\n",
       "    <tr>\n",
       "      <th>17</th>\n",
       "      <td>2023-12-16 12:48:59.718351</td>\n",
       "      <td>971</td>\n",
       "    </tr>\n",
       "    <tr>\n",
       "      <th>18</th>\n",
       "      <td>2023-12-15 12:48:59.718351</td>\n",
       "      <td>763</td>\n",
       "    </tr>\n",
       "    <tr>\n",
       "      <th>19</th>\n",
       "      <td>2023-12-14 12:48:59.718351</td>\n",
       "      <td>230</td>\n",
       "    </tr>\n",
       "  </tbody>\n",
       "</table>\n",
       "</div>"
      ],
      "text/plain": [
       "                         Date  Sales\n",
       "0  2024-01-02 12:48:59.718351    202\n",
       "1  2024-01-01 12:48:59.718351    535\n",
       "2  2023-12-31 12:48:59.718351    960\n",
       "3  2023-12-30 12:48:59.718351    370\n",
       "4  2023-12-29 12:48:59.718351    206\n",
       "5  2023-12-28 12:48:59.718351    171\n",
       "6  2023-12-27 12:48:59.718351    800\n",
       "7  2023-12-26 12:48:59.718351    120\n",
       "8  2023-12-25 12:48:59.718351    714\n",
       "9  2023-12-24 12:48:59.718351    221\n",
       "10 2023-12-23 12:48:59.718351    566\n",
       "11 2023-12-22 12:48:59.718351    314\n",
       "12 2023-12-21 12:48:59.718351    430\n",
       "13 2023-12-20 12:48:59.718351    558\n",
       "14 2023-12-19 12:48:59.718351    187\n",
       "15 2023-12-18 12:48:59.718351    472\n",
       "16 2023-12-17 12:48:59.718351    199\n",
       "17 2023-12-16 12:48:59.718351    971\n",
       "18 2023-12-15 12:48:59.718351    763\n",
       "19 2023-12-14 12:48:59.718351    230"
      ]
     },
     "execution_count": 169,
     "metadata": {},
     "output_type": "execute_result"
    }
   ],
   "source": [
    "from datetime import datetime, timedelta\n",
    "# Generate random sales data\n",
    "np.random.seed(42)\n",
    "sales_data = np.random.randint(100, 1000, size=20)\n",
    "\n",
    "# Generate date range for the last 20 days\n",
    "end_date = datetime.now()\n",
    "date_range = [end_date - timedelta(days=x) for x in range(20)]\n",
    "\n",
    "# Create the DataFrame\n",
    "df = pd.DataFrame({'Date': date_range, 'Sales': sales_data})\n",
    "df"
   ]
  },
  {
   "cell_type": "code",
   "execution_count": 208,
   "id": "cac54f6d",
   "metadata": {},
   "outputs": [],
   "source": [
    "def calculate_moving_average(df, window_size=7):\n",
    "    \"\"\"\n",
    "    Calculates the moving average of 'Sales' for the past 7 days.\n",
    "\n",
    "    Parameters:\n",
    "    df : The input DataFrame with columns 'Sales' and 'Date'.\n",
    "    window_size: The size of the moving average window (default is 7).\n",
    "\n",
    "    Returns:\n",
    "    df: The DataFrame with the new 'MovingAverage' column.\n",
    "    \"\"\"\n",
    "    # Sort the DataFrame by 'Date' in ascending order\n",
    "    df = df.sort_values(by='Date')\n",
    "\n",
    "    # Calculate the moving average using a window of size 7\n",
    "    df['MovingAverage'] = df['Sales'].rolling(window=7).mean()\n",
    "    df['MovingAverage'] = df['MovingAverage'].fillna(df['Sales'])\n",
    "    df = df.reset_index(drop=True)\n",
    "    \n",
    "    return df"
   ]
  },
  {
   "cell_type": "code",
   "execution_count": 209,
   "id": "cfd27f11",
   "metadata": {},
   "outputs": [
    {
     "data": {
      "text/html": [
       "<div>\n",
       "<style scoped>\n",
       "    .dataframe tbody tr th:only-of-type {\n",
       "        vertical-align: middle;\n",
       "    }\n",
       "\n",
       "    .dataframe tbody tr th {\n",
       "        vertical-align: top;\n",
       "    }\n",
       "\n",
       "    .dataframe thead th {\n",
       "        text-align: right;\n",
       "    }\n",
       "</style>\n",
       "<table border=\"1\" class=\"dataframe\">\n",
       "  <thead>\n",
       "    <tr style=\"text-align: right;\">\n",
       "      <th></th>\n",
       "      <th>Date</th>\n",
       "      <th>Sales</th>\n",
       "      <th>MovingAverage</th>\n",
       "    </tr>\n",
       "  </thead>\n",
       "  <tbody>\n",
       "    <tr>\n",
       "      <th>0</th>\n",
       "      <td>2023-12-14 12:48:59.718351</td>\n",
       "      <td>230</td>\n",
       "      <td>230.000000</td>\n",
       "    </tr>\n",
       "    <tr>\n",
       "      <th>1</th>\n",
       "      <td>2023-12-15 12:48:59.718351</td>\n",
       "      <td>763</td>\n",
       "      <td>763.000000</td>\n",
       "    </tr>\n",
       "    <tr>\n",
       "      <th>2</th>\n",
       "      <td>2023-12-16 12:48:59.718351</td>\n",
       "      <td>971</td>\n",
       "      <td>971.000000</td>\n",
       "    </tr>\n",
       "    <tr>\n",
       "      <th>3</th>\n",
       "      <td>2023-12-17 12:48:59.718351</td>\n",
       "      <td>199</td>\n",
       "      <td>199.000000</td>\n",
       "    </tr>\n",
       "    <tr>\n",
       "      <th>4</th>\n",
       "      <td>2023-12-18 12:48:59.718351</td>\n",
       "      <td>472</td>\n",
       "      <td>472.000000</td>\n",
       "    </tr>\n",
       "    <tr>\n",
       "      <th>5</th>\n",
       "      <td>2023-12-19 12:48:59.718351</td>\n",
       "      <td>187</td>\n",
       "      <td>187.000000</td>\n",
       "    </tr>\n",
       "    <tr>\n",
       "      <th>6</th>\n",
       "      <td>2023-12-20 12:48:59.718351</td>\n",
       "      <td>558</td>\n",
       "      <td>482.857143</td>\n",
       "    </tr>\n",
       "    <tr>\n",
       "      <th>7</th>\n",
       "      <td>2023-12-21 12:48:59.718351</td>\n",
       "      <td>430</td>\n",
       "      <td>511.428571</td>\n",
       "    </tr>\n",
       "    <tr>\n",
       "      <th>8</th>\n",
       "      <td>2023-12-22 12:48:59.718351</td>\n",
       "      <td>314</td>\n",
       "      <td>447.285714</td>\n",
       "    </tr>\n",
       "    <tr>\n",
       "      <th>9</th>\n",
       "      <td>2023-12-23 12:48:59.718351</td>\n",
       "      <td>566</td>\n",
       "      <td>389.428571</td>\n",
       "    </tr>\n",
       "    <tr>\n",
       "      <th>10</th>\n",
       "      <td>2023-12-24 12:48:59.718351</td>\n",
       "      <td>221</td>\n",
       "      <td>392.571429</td>\n",
       "    </tr>\n",
       "    <tr>\n",
       "      <th>11</th>\n",
       "      <td>2023-12-25 12:48:59.718351</td>\n",
       "      <td>714</td>\n",
       "      <td>427.142857</td>\n",
       "    </tr>\n",
       "    <tr>\n",
       "      <th>12</th>\n",
       "      <td>2023-12-26 12:48:59.718351</td>\n",
       "      <td>120</td>\n",
       "      <td>417.571429</td>\n",
       "    </tr>\n",
       "    <tr>\n",
       "      <th>13</th>\n",
       "      <td>2023-12-27 12:48:59.718351</td>\n",
       "      <td>800</td>\n",
       "      <td>452.142857</td>\n",
       "    </tr>\n",
       "    <tr>\n",
       "      <th>14</th>\n",
       "      <td>2023-12-28 12:48:59.718351</td>\n",
       "      <td>171</td>\n",
       "      <td>415.142857</td>\n",
       "    </tr>\n",
       "    <tr>\n",
       "      <th>15</th>\n",
       "      <td>2023-12-29 12:48:59.718351</td>\n",
       "      <td>206</td>\n",
       "      <td>399.714286</td>\n",
       "    </tr>\n",
       "    <tr>\n",
       "      <th>16</th>\n",
       "      <td>2023-12-30 12:48:59.718351</td>\n",
       "      <td>370</td>\n",
       "      <td>371.714286</td>\n",
       "    </tr>\n",
       "    <tr>\n",
       "      <th>17</th>\n",
       "      <td>2023-12-31 12:48:59.718351</td>\n",
       "      <td>960</td>\n",
       "      <td>477.285714</td>\n",
       "    </tr>\n",
       "    <tr>\n",
       "      <th>18</th>\n",
       "      <td>2024-01-01 12:48:59.718351</td>\n",
       "      <td>535</td>\n",
       "      <td>451.714286</td>\n",
       "    </tr>\n",
       "    <tr>\n",
       "      <th>19</th>\n",
       "      <td>2024-01-02 12:48:59.718351</td>\n",
       "      <td>202</td>\n",
       "      <td>463.428571</td>\n",
       "    </tr>\n",
       "  </tbody>\n",
       "</table>\n",
       "</div>"
      ],
      "text/plain": [
       "                         Date  Sales  MovingAverage\n",
       "0  2023-12-14 12:48:59.718351    230     230.000000\n",
       "1  2023-12-15 12:48:59.718351    763     763.000000\n",
       "2  2023-12-16 12:48:59.718351    971     971.000000\n",
       "3  2023-12-17 12:48:59.718351    199     199.000000\n",
       "4  2023-12-18 12:48:59.718351    472     472.000000\n",
       "5  2023-12-19 12:48:59.718351    187     187.000000\n",
       "6  2023-12-20 12:48:59.718351    558     482.857143\n",
       "7  2023-12-21 12:48:59.718351    430     511.428571\n",
       "8  2023-12-22 12:48:59.718351    314     447.285714\n",
       "9  2023-12-23 12:48:59.718351    566     389.428571\n",
       "10 2023-12-24 12:48:59.718351    221     392.571429\n",
       "11 2023-12-25 12:48:59.718351    714     427.142857\n",
       "12 2023-12-26 12:48:59.718351    120     417.571429\n",
       "13 2023-12-27 12:48:59.718351    800     452.142857\n",
       "14 2023-12-28 12:48:59.718351    171     415.142857\n",
       "15 2023-12-29 12:48:59.718351    206     399.714286\n",
       "16 2023-12-30 12:48:59.718351    370     371.714286\n",
       "17 2023-12-31 12:48:59.718351    960     477.285714\n",
       "18 2024-01-01 12:48:59.718351    535     451.714286\n",
       "19 2024-01-02 12:48:59.718351    202     463.428571"
      ]
     },
     "execution_count": 209,
     "metadata": {},
     "output_type": "execute_result"
    }
   ],
   "source": [
    "rolling_sales_avg = calculate_moving_average(df)\n",
    "rolling_sales_avg"
   ]
  },
  {
   "cell_type": "markdown",
   "id": "6d718751",
   "metadata": {},
   "source": [
    "Q11. You have a Pandas DataFrame df with a column 'Date'. Write a Python function that creates a new \n",
    "column 'Weekday' in the DataFrame. The 'Weekday' column should contain the weekday name (e.g. \n",
    "Monday, Tuesday) corresponding to each date in the 'Date' column.\n"
   ]
  },
  {
   "cell_type": "code",
   "execution_count": 203,
   "id": "3ad73a5c",
   "metadata": {},
   "outputs": [],
   "source": [
    "date_df = pd.DataFrame({\n",
    "    'Date' : pd.date_range(start='2024-01-01', end='2024-01-10')\n",
    "})\n",
    "\n",
    "def generate_weekday(df, columns_name):\n",
    "    \"\"\"\n",
    "    Returns new column 'Weekday' to the DataFrame with weekday names.\n",
    "    \n",
    "    Parameters:\n",
    "    - df: The input DataFrame with a 'Date' column.\n",
    "    - columns_name: The name of the 'Date' column.\n",
    "    \n",
    "    Returns.\n",
    "    The updated DataFrame with the new 'Weekday' column.\n",
    "\n",
    "        \n",
    "    \"\"\"\n",
    "    # Ensure 'Date' column is in datetime format\n",
    "    df[columns_name] = pd.to_datetime(df[columns_name])\n",
    "\n",
    "    # Extract weekday names from the 'Date' column\n",
    "    df['Weekdays'] = df[columns_name].dt.strftime('%A')\n",
    "    \n",
    "    return df"
   ]
  },
  {
   "cell_type": "code",
   "execution_count": 205,
   "id": "82d71947",
   "metadata": {},
   "outputs": [
    {
     "data": {
      "text/html": [
       "<div>\n",
       "<style scoped>\n",
       "    .dataframe tbody tr th:only-of-type {\n",
       "        vertical-align: middle;\n",
       "    }\n",
       "\n",
       "    .dataframe tbody tr th {\n",
       "        vertical-align: top;\n",
       "    }\n",
       "\n",
       "    .dataframe thead th {\n",
       "        text-align: right;\n",
       "    }\n",
       "</style>\n",
       "<table border=\"1\" class=\"dataframe\">\n",
       "  <thead>\n",
       "    <tr style=\"text-align: right;\">\n",
       "      <th></th>\n",
       "      <th>Date</th>\n",
       "      <th>Weekdays</th>\n",
       "    </tr>\n",
       "  </thead>\n",
       "  <tbody>\n",
       "    <tr>\n",
       "      <th>0</th>\n",
       "      <td>2024-01-01</td>\n",
       "      <td>Monday</td>\n",
       "    </tr>\n",
       "    <tr>\n",
       "      <th>1</th>\n",
       "      <td>2024-01-02</td>\n",
       "      <td>Tuesday</td>\n",
       "    </tr>\n",
       "    <tr>\n",
       "      <th>2</th>\n",
       "      <td>2024-01-03</td>\n",
       "      <td>Wednesday</td>\n",
       "    </tr>\n",
       "    <tr>\n",
       "      <th>3</th>\n",
       "      <td>2024-01-04</td>\n",
       "      <td>Thursday</td>\n",
       "    </tr>\n",
       "    <tr>\n",
       "      <th>4</th>\n",
       "      <td>2024-01-05</td>\n",
       "      <td>Friday</td>\n",
       "    </tr>\n",
       "    <tr>\n",
       "      <th>5</th>\n",
       "      <td>2024-01-06</td>\n",
       "      <td>Saturday</td>\n",
       "    </tr>\n",
       "    <tr>\n",
       "      <th>6</th>\n",
       "      <td>2024-01-07</td>\n",
       "      <td>Sunday</td>\n",
       "    </tr>\n",
       "    <tr>\n",
       "      <th>7</th>\n",
       "      <td>2024-01-08</td>\n",
       "      <td>Monday</td>\n",
       "    </tr>\n",
       "    <tr>\n",
       "      <th>8</th>\n",
       "      <td>2024-01-09</td>\n",
       "      <td>Tuesday</td>\n",
       "    </tr>\n",
       "    <tr>\n",
       "      <th>9</th>\n",
       "      <td>2024-01-10</td>\n",
       "      <td>Wednesday</td>\n",
       "    </tr>\n",
       "  </tbody>\n",
       "</table>\n",
       "</div>"
      ],
      "text/plain": [
       "        Date   Weekdays\n",
       "0 2024-01-01     Monday\n",
       "1 2024-01-02    Tuesday\n",
       "2 2024-01-03  Wednesday\n",
       "3 2024-01-04   Thursday\n",
       "4 2024-01-05     Friday\n",
       "5 2024-01-06   Saturday\n",
       "6 2024-01-07     Sunday\n",
       "7 2024-01-08     Monday\n",
       "8 2024-01-09    Tuesday\n",
       "9 2024-01-10  Wednesday"
      ]
     },
     "execution_count": 205,
     "metadata": {},
     "output_type": "execute_result"
    }
   ],
   "source": [
    "generate_weekday(date_df, 'Date')"
   ]
  },
  {
   "cell_type": "code",
   "execution_count": 199,
   "id": "53ab9186",
   "metadata": {},
   "outputs": [
    {
     "data": {
      "text/plain": [
       "0       Monday\n",
       "1      Tuesday\n",
       "2    Wednesday\n",
       "3     Thursday\n",
       "4       Friday\n",
       "5     Saturday\n",
       "6       Sunday\n",
       "7       Monday\n",
       "8      Tuesday\n",
       "9    Wednesday\n",
       "Name: Date, dtype: object"
      ]
     },
     "execution_count": 199,
     "metadata": {},
     "output_type": "execute_result"
    }
   ],
   "source": [
    "date_df['Date'].dt.strftime('%A')"
   ]
  },
  {
   "cell_type": "markdown",
   "id": "81fa4660",
   "metadata": {},
   "source": [
    "Q12. Given a Pandas DataFrame df with a column 'Date' that contains timestamps, write a Python \n",
    "function to select all rows where the date is between '2023-01-01' and '2023-01-31'"
   ]
  },
  {
   "cell_type": "code",
   "execution_count": 234,
   "id": "4a3ad6a4",
   "metadata": {},
   "outputs": [],
   "source": [
    "def select_rows_in_date_range(df, start_date, end_date, date_column='Date'):\n",
    "    \"\"\"\n",
    "    Selects rows from the DataFrame where the 'Date' column is between start_date and end_date.\n",
    "\n",
    "    Parameters:\n",
    "    df: The input DataFrame with a 'Date' column.\n",
    "    start_date: The start date for the date range.\n",
    "    end_date: The end date for the date range.\n",
    "    date_column : The name of the 'Date' column (default is 'Date').\n",
    "\n",
    "    Returns:\n",
    "    df : A new DataFrame containing only the selected rows.\n",
    "    \"\"\"\n",
    "    # Convert start_date and end_date to datetime objects\n",
    "    start_date = pd.to_datetime(start_date)\n",
    "    end_date = pd.to_datetime(end_date)\n",
    "\n",
    "    # Use boolean indexing to filter rows based on date range\n",
    "    selected_rows = df[(df[date_column] >= start_date) & (df[date_column] <= end_date)]\n",
    "\n",
    "    return selected_rows"
   ]
  },
  {
   "cell_type": "code",
   "execution_count": 236,
   "id": "e10a3f3d",
   "metadata": {},
   "outputs": [
    {
     "name": "stdout",
     "output_type": "stream",
     "text": [
      "         Date\n",
      "4  2023-01-05\n",
      "5  2023-01-06\n",
      "6  2023-01-07\n",
      "7  2023-01-08\n",
      "8  2023-01-09\n",
      "9  2023-01-10\n",
      "10 2023-01-11\n",
      "11 2023-01-12\n",
      "12 2023-01-13\n",
      "13 2023-01-14\n",
      "14 2023-01-15\n"
     ]
    }
   ],
   "source": [
    "df = pd.DataFrame({\n",
    "    'Date': pd.date_range(start='2023-01-01', end='2023-01-31'),\n",
    "})\n",
    "\n",
    "# Call the function to select rows in the specified date range\n",
    "selected_df = select_rows_in_date_range(df, '2023-01-05', '2023-01-15')\n",
    "\n",
    "# Display the selected DataFrame\n",
    "print(selected_df)"
   ]
  },
  {
   "cell_type": "markdown",
   "id": "e50ff2e2",
   "metadata": {},
   "source": [
    "Q13.To use the basic functions of pandas, what is the first and foremost necessary library that needs to \n",
    "be imported? <br>\n",
    "<br>\n",
    "Ans : import pandas as pd"
   ]
  },
  {
   "cell_type": "code",
   "execution_count": null,
   "id": "36e83007",
   "metadata": {},
   "outputs": [],
   "source": []
  }
 ],
 "metadata": {
  "kernelspec": {
   "display_name": "Python 3 (ipykernel)",
   "language": "python",
   "name": "python3"
  },
  "language_info": {
   "codemirror_mode": {
    "name": "ipython",
    "version": 3
   },
   "file_extension": ".py",
   "mimetype": "text/x-python",
   "name": "python",
   "nbconvert_exporter": "python",
   "pygments_lexer": "ipython3",
   "version": "3.9.12"
  }
 },
 "nbformat": 4,
 "nbformat_minor": 5
}
